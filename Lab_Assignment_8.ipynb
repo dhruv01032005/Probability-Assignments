{
  "nbformat": 4,
  "nbformat_minor": 0,
  "metadata": {
    "colab": {
      "provenance": []
    },
    "kernelspec": {
      "name": "python3",
      "display_name": "Python 3"
    },
    "language_info": {
      "name": "python"
    }
  },
  "cells": [
    {
      "cell_type": "code",
      "execution_count": null,
      "metadata": {
        "id": "6Lr5zcPLD0xZ"
      },
      "outputs": [],
      "source": [
        "import seaborn as sns"
      ]
    },
    {
      "cell_type": "code",
      "source": [
        "data = sns.load_dataset(name='iris')\n",
        "data"
      ],
      "metadata": {
        "colab": {
          "base_uri": "https://localhost:8080/",
          "height": 423
        },
        "id": "JcukrI-TD_xv",
        "outputId": "52400214-78b3-455a-8906-b06f84545d66"
      },
      "execution_count": null,
      "outputs": [
        {
          "output_type": "execute_result",
          "data": {
            "text/plain": [
              "     sepal_length  sepal_width  petal_length  petal_width    species\n",
              "0             5.1          3.5           1.4          0.2     setosa\n",
              "1             4.9          3.0           1.4          0.2     setosa\n",
              "2             4.7          3.2           1.3          0.2     setosa\n",
              "3             4.6          3.1           1.5          0.2     setosa\n",
              "4             5.0          3.6           1.4          0.2     setosa\n",
              "..            ...          ...           ...          ...        ...\n",
              "145           6.7          3.0           5.2          2.3  virginica\n",
              "146           6.3          2.5           5.0          1.9  virginica\n",
              "147           6.5          3.0           5.2          2.0  virginica\n",
              "148           6.2          3.4           5.4          2.3  virginica\n",
              "149           5.9          3.0           5.1          1.8  virginica\n",
              "\n",
              "[150 rows x 5 columns]"
            ],
            "text/html": [
              "\n",
              "  <div id=\"df-9e03ec0c-c52e-4483-9e0c-5a2ded5db5c8\" class=\"colab-df-container\">\n",
              "    <div>\n",
              "<style scoped>\n",
              "    .dataframe tbody tr th:only-of-type {\n",
              "        vertical-align: middle;\n",
              "    }\n",
              "\n",
              "    .dataframe tbody tr th {\n",
              "        vertical-align: top;\n",
              "    }\n",
              "\n",
              "    .dataframe thead th {\n",
              "        text-align: right;\n",
              "    }\n",
              "</style>\n",
              "<table border=\"1\" class=\"dataframe\">\n",
              "  <thead>\n",
              "    <tr style=\"text-align: right;\">\n",
              "      <th></th>\n",
              "      <th>sepal_length</th>\n",
              "      <th>sepal_width</th>\n",
              "      <th>petal_length</th>\n",
              "      <th>petal_width</th>\n",
              "      <th>species</th>\n",
              "    </tr>\n",
              "  </thead>\n",
              "  <tbody>\n",
              "    <tr>\n",
              "      <th>0</th>\n",
              "      <td>5.1</td>\n",
              "      <td>3.5</td>\n",
              "      <td>1.4</td>\n",
              "      <td>0.2</td>\n",
              "      <td>setosa</td>\n",
              "    </tr>\n",
              "    <tr>\n",
              "      <th>1</th>\n",
              "      <td>4.9</td>\n",
              "      <td>3.0</td>\n",
              "      <td>1.4</td>\n",
              "      <td>0.2</td>\n",
              "      <td>setosa</td>\n",
              "    </tr>\n",
              "    <tr>\n",
              "      <th>2</th>\n",
              "      <td>4.7</td>\n",
              "      <td>3.2</td>\n",
              "      <td>1.3</td>\n",
              "      <td>0.2</td>\n",
              "      <td>setosa</td>\n",
              "    </tr>\n",
              "    <tr>\n",
              "      <th>3</th>\n",
              "      <td>4.6</td>\n",
              "      <td>3.1</td>\n",
              "      <td>1.5</td>\n",
              "      <td>0.2</td>\n",
              "      <td>setosa</td>\n",
              "    </tr>\n",
              "    <tr>\n",
              "      <th>4</th>\n",
              "      <td>5.0</td>\n",
              "      <td>3.6</td>\n",
              "      <td>1.4</td>\n",
              "      <td>0.2</td>\n",
              "      <td>setosa</td>\n",
              "    </tr>\n",
              "    <tr>\n",
              "      <th>...</th>\n",
              "      <td>...</td>\n",
              "      <td>...</td>\n",
              "      <td>...</td>\n",
              "      <td>...</td>\n",
              "      <td>...</td>\n",
              "    </tr>\n",
              "    <tr>\n",
              "      <th>145</th>\n",
              "      <td>6.7</td>\n",
              "      <td>3.0</td>\n",
              "      <td>5.2</td>\n",
              "      <td>2.3</td>\n",
              "      <td>virginica</td>\n",
              "    </tr>\n",
              "    <tr>\n",
              "      <th>146</th>\n",
              "      <td>6.3</td>\n",
              "      <td>2.5</td>\n",
              "      <td>5.0</td>\n",
              "      <td>1.9</td>\n",
              "      <td>virginica</td>\n",
              "    </tr>\n",
              "    <tr>\n",
              "      <th>147</th>\n",
              "      <td>6.5</td>\n",
              "      <td>3.0</td>\n",
              "      <td>5.2</td>\n",
              "      <td>2.0</td>\n",
              "      <td>virginica</td>\n",
              "    </tr>\n",
              "    <tr>\n",
              "      <th>148</th>\n",
              "      <td>6.2</td>\n",
              "      <td>3.4</td>\n",
              "      <td>5.4</td>\n",
              "      <td>2.3</td>\n",
              "      <td>virginica</td>\n",
              "    </tr>\n",
              "    <tr>\n",
              "      <th>149</th>\n",
              "      <td>5.9</td>\n",
              "      <td>3.0</td>\n",
              "      <td>5.1</td>\n",
              "      <td>1.8</td>\n",
              "      <td>virginica</td>\n",
              "    </tr>\n",
              "  </tbody>\n",
              "</table>\n",
              "<p>150 rows × 5 columns</p>\n",
              "</div>\n",
              "    <div class=\"colab-df-buttons\">\n",
              "\n",
              "  <div class=\"colab-df-container\">\n",
              "    <button class=\"colab-df-convert\" onclick=\"convertToInteractive('df-9e03ec0c-c52e-4483-9e0c-5a2ded5db5c8')\"\n",
              "            title=\"Convert this dataframe to an interactive table.\"\n",
              "            style=\"display:none;\">\n",
              "\n",
              "  <svg xmlns=\"http://www.w3.org/2000/svg\" height=\"24px\" viewBox=\"0 -960 960 960\">\n",
              "    <path d=\"M120-120v-720h720v720H120Zm60-500h600v-160H180v160Zm220 220h160v-160H400v160Zm0 220h160v-160H400v160ZM180-400h160v-160H180v160Zm440 0h160v-160H620v160ZM180-180h160v-160H180v160Zm440 0h160v-160H620v160Z\"/>\n",
              "  </svg>\n",
              "    </button>\n",
              "\n",
              "  <style>\n",
              "    .colab-df-container {\n",
              "      display:flex;\n",
              "      gap: 12px;\n",
              "    }\n",
              "\n",
              "    .colab-df-convert {\n",
              "      background-color: #E8F0FE;\n",
              "      border: none;\n",
              "      border-radius: 50%;\n",
              "      cursor: pointer;\n",
              "      display: none;\n",
              "      fill: #1967D2;\n",
              "      height: 32px;\n",
              "      padding: 0 0 0 0;\n",
              "      width: 32px;\n",
              "    }\n",
              "\n",
              "    .colab-df-convert:hover {\n",
              "      background-color: #E2EBFA;\n",
              "      box-shadow: 0px 1px 2px rgba(60, 64, 67, 0.3), 0px 1px 3px 1px rgba(60, 64, 67, 0.15);\n",
              "      fill: #174EA6;\n",
              "    }\n",
              "\n",
              "    .colab-df-buttons div {\n",
              "      margin-bottom: 4px;\n",
              "    }\n",
              "\n",
              "    [theme=dark] .colab-df-convert {\n",
              "      background-color: #3B4455;\n",
              "      fill: #D2E3FC;\n",
              "    }\n",
              "\n",
              "    [theme=dark] .colab-df-convert:hover {\n",
              "      background-color: #434B5C;\n",
              "      box-shadow: 0px 1px 3px 1px rgba(0, 0, 0, 0.15);\n",
              "      filter: drop-shadow(0px 1px 2px rgba(0, 0, 0, 0.3));\n",
              "      fill: #FFFFFF;\n",
              "    }\n",
              "  </style>\n",
              "\n",
              "    <script>\n",
              "      const buttonEl =\n",
              "        document.querySelector('#df-9e03ec0c-c52e-4483-9e0c-5a2ded5db5c8 button.colab-df-convert');\n",
              "      buttonEl.style.display =\n",
              "        google.colab.kernel.accessAllowed ? 'block' : 'none';\n",
              "\n",
              "      async function convertToInteractive(key) {\n",
              "        const element = document.querySelector('#df-9e03ec0c-c52e-4483-9e0c-5a2ded5db5c8');\n",
              "        const dataTable =\n",
              "          await google.colab.kernel.invokeFunction('convertToInteractive',\n",
              "                                                    [key], {});\n",
              "        if (!dataTable) return;\n",
              "\n",
              "        const docLinkHtml = 'Like what you see? Visit the ' +\n",
              "          '<a target=\"_blank\" href=https://colab.research.google.com/notebooks/data_table.ipynb>data table notebook</a>'\n",
              "          + ' to learn more about interactive tables.';\n",
              "        element.innerHTML = '';\n",
              "        dataTable['output_type'] = 'display_data';\n",
              "        await google.colab.output.renderOutput(dataTable, element);\n",
              "        const docLink = document.createElement('div');\n",
              "        docLink.innerHTML = docLinkHtml;\n",
              "        element.appendChild(docLink);\n",
              "      }\n",
              "    </script>\n",
              "  </div>\n",
              "\n",
              "\n",
              "<div id=\"df-86119989-b245-46c5-b128-84d1eedcf068\">\n",
              "  <button class=\"colab-df-quickchart\" onclick=\"quickchart('df-86119989-b245-46c5-b128-84d1eedcf068')\"\n",
              "            title=\"Suggest charts\"\n",
              "            style=\"display:none;\">\n",
              "\n",
              "<svg xmlns=\"http://www.w3.org/2000/svg\" height=\"24px\"viewBox=\"0 0 24 24\"\n",
              "     width=\"24px\">\n",
              "    <g>\n",
              "        <path d=\"M19 3H5c-1.1 0-2 .9-2 2v14c0 1.1.9 2 2 2h14c1.1 0 2-.9 2-2V5c0-1.1-.9-2-2-2zM9 17H7v-7h2v7zm4 0h-2V7h2v10zm4 0h-2v-4h2v4z\"/>\n",
              "    </g>\n",
              "</svg>\n",
              "  </button>\n",
              "\n",
              "<style>\n",
              "  .colab-df-quickchart {\n",
              "      --bg-color: #E8F0FE;\n",
              "      --fill-color: #1967D2;\n",
              "      --hover-bg-color: #E2EBFA;\n",
              "      --hover-fill-color: #174EA6;\n",
              "      --disabled-fill-color: #AAA;\n",
              "      --disabled-bg-color: #DDD;\n",
              "  }\n",
              "\n",
              "  [theme=dark] .colab-df-quickchart {\n",
              "      --bg-color: #3B4455;\n",
              "      --fill-color: #D2E3FC;\n",
              "      --hover-bg-color: #434B5C;\n",
              "      --hover-fill-color: #FFFFFF;\n",
              "      --disabled-bg-color: #3B4455;\n",
              "      --disabled-fill-color: #666;\n",
              "  }\n",
              "\n",
              "  .colab-df-quickchart {\n",
              "    background-color: var(--bg-color);\n",
              "    border: none;\n",
              "    border-radius: 50%;\n",
              "    cursor: pointer;\n",
              "    display: none;\n",
              "    fill: var(--fill-color);\n",
              "    height: 32px;\n",
              "    padding: 0;\n",
              "    width: 32px;\n",
              "  }\n",
              "\n",
              "  .colab-df-quickchart:hover {\n",
              "    background-color: var(--hover-bg-color);\n",
              "    box-shadow: 0 1px 2px rgba(60, 64, 67, 0.3), 0 1px 3px 1px rgba(60, 64, 67, 0.15);\n",
              "    fill: var(--button-hover-fill-color);\n",
              "  }\n",
              "\n",
              "  .colab-df-quickchart-complete:disabled,\n",
              "  .colab-df-quickchart-complete:disabled:hover {\n",
              "    background-color: var(--disabled-bg-color);\n",
              "    fill: var(--disabled-fill-color);\n",
              "    box-shadow: none;\n",
              "  }\n",
              "\n",
              "  .colab-df-spinner {\n",
              "    border: 2px solid var(--fill-color);\n",
              "    border-color: transparent;\n",
              "    border-bottom-color: var(--fill-color);\n",
              "    animation:\n",
              "      spin 1s steps(1) infinite;\n",
              "  }\n",
              "\n",
              "  @keyframes spin {\n",
              "    0% {\n",
              "      border-color: transparent;\n",
              "      border-bottom-color: var(--fill-color);\n",
              "      border-left-color: var(--fill-color);\n",
              "    }\n",
              "    20% {\n",
              "      border-color: transparent;\n",
              "      border-left-color: var(--fill-color);\n",
              "      border-top-color: var(--fill-color);\n",
              "    }\n",
              "    30% {\n",
              "      border-color: transparent;\n",
              "      border-left-color: var(--fill-color);\n",
              "      border-top-color: var(--fill-color);\n",
              "      border-right-color: var(--fill-color);\n",
              "    }\n",
              "    40% {\n",
              "      border-color: transparent;\n",
              "      border-right-color: var(--fill-color);\n",
              "      border-top-color: var(--fill-color);\n",
              "    }\n",
              "    60% {\n",
              "      border-color: transparent;\n",
              "      border-right-color: var(--fill-color);\n",
              "    }\n",
              "    80% {\n",
              "      border-color: transparent;\n",
              "      border-right-color: var(--fill-color);\n",
              "      border-bottom-color: var(--fill-color);\n",
              "    }\n",
              "    90% {\n",
              "      border-color: transparent;\n",
              "      border-bottom-color: var(--fill-color);\n",
              "    }\n",
              "  }\n",
              "</style>\n",
              "\n",
              "  <script>\n",
              "    async function quickchart(key) {\n",
              "      const quickchartButtonEl =\n",
              "        document.querySelector('#' + key + ' button');\n",
              "      quickchartButtonEl.disabled = true;  // To prevent multiple clicks.\n",
              "      quickchartButtonEl.classList.add('colab-df-spinner');\n",
              "      try {\n",
              "        const charts = await google.colab.kernel.invokeFunction(\n",
              "            'suggestCharts', [key], {});\n",
              "      } catch (error) {\n",
              "        console.error('Error during call to suggestCharts:', error);\n",
              "      }\n",
              "      quickchartButtonEl.classList.remove('colab-df-spinner');\n",
              "      quickchartButtonEl.classList.add('colab-df-quickchart-complete');\n",
              "    }\n",
              "    (() => {\n",
              "      let quickchartButtonEl =\n",
              "        document.querySelector('#df-86119989-b245-46c5-b128-84d1eedcf068 button');\n",
              "      quickchartButtonEl.style.display =\n",
              "        google.colab.kernel.accessAllowed ? 'block' : 'none';\n",
              "    })();\n",
              "  </script>\n",
              "</div>\n",
              "    </div>\n",
              "  </div>\n"
            ],
            "application/vnd.google.colaboratory.intrinsic+json": {
              "type": "dataframe",
              "variable_name": "data",
              "summary": "{\n  \"name\": \"data\",\n  \"rows\": 150,\n  \"fields\": [\n    {\n      \"column\": \"sepal_length\",\n      \"properties\": {\n        \"dtype\": \"number\",\n        \"std\": 0.828066127977863,\n        \"min\": 4.3,\n        \"max\": 7.9,\n        \"num_unique_values\": 35,\n        \"samples\": [\n          6.2,\n          4.5,\n          5.6\n        ],\n        \"semantic_type\": \"\",\n        \"description\": \"\"\n      }\n    },\n    {\n      \"column\": \"sepal_width\",\n      \"properties\": {\n        \"dtype\": \"number\",\n        \"std\": 0.4358662849366982,\n        \"min\": 2.0,\n        \"max\": 4.4,\n        \"num_unique_values\": 23,\n        \"samples\": [\n          2.3,\n          4.0,\n          3.5\n        ],\n        \"semantic_type\": \"\",\n        \"description\": \"\"\n      }\n    },\n    {\n      \"column\": \"petal_length\",\n      \"properties\": {\n        \"dtype\": \"number\",\n        \"std\": 1.7652982332594662,\n        \"min\": 1.0,\n        \"max\": 6.9,\n        \"num_unique_values\": 43,\n        \"samples\": [\n          6.7,\n          3.8,\n          3.7\n        ],\n        \"semantic_type\": \"\",\n        \"description\": \"\"\n      }\n    },\n    {\n      \"column\": \"petal_width\",\n      \"properties\": {\n        \"dtype\": \"number\",\n        \"std\": 0.7622376689603465,\n        \"min\": 0.1,\n        \"max\": 2.5,\n        \"num_unique_values\": 22,\n        \"samples\": [\n          0.2,\n          1.2,\n          1.3\n        ],\n        \"semantic_type\": \"\",\n        \"description\": \"\"\n      }\n    },\n    {\n      \"column\": \"species\",\n      \"properties\": {\n        \"dtype\": \"category\",\n        \"num_unique_values\": 3,\n        \"samples\": [\n          \"setosa\",\n          \"versicolor\",\n          \"virginica\"\n        ],\n        \"semantic_type\": \"\",\n        \"description\": \"\"\n      }\n    }\n  ]\n}"
            }
          },
          "metadata": {},
          "execution_count": 38
        }
      ]
    },
    {
      "cell_type": "code",
      "source": [
        "sepal_length_data=data[\"sepal_length\"]\n",
        "sepal_length_mean=0\n",
        "for k in sepal_length_data:\n",
        "  sepal_length_mean=sepal_length_mean+k/len(sepal_length_data)\n",
        "print(\"Mean of sepal length::\",sepal_length_mean)\n",
        "\n",
        "sepal_width_data=data[\"sepal_width\"]\n",
        "sepal_width_mean=0\n",
        "for k in sepal_width_data:\n",
        "  sepal_width_mean=sepal_width_mean+k/len(sepal_width_data)\n",
        "print(\"Mean of sepal width::\",sepal_width_mean)\n",
        "\n",
        "petal_length_data=data[\"petal_length\"]\n",
        "petal_length_mean=0\n",
        "for k in petal_length_data:\n",
        "  petal_length_mean=petal_length_mean+k/len(petal_length_data)\n",
        "print(\"Mean of petal length::\",petal_length_mean)\n",
        "\n",
        "petal_width_data=data[\"petal_width\"]\n",
        "petal_width_mean=0\n",
        "for k in petal_width_data:\n",
        "  petal_width_mean=petal_width_mean+k/len(petal_width_data)\n",
        "print(\"Mean of petal width::\",petal_width_mean)"
      ],
      "metadata": {
        "id": "voS60Y5oWZKY",
        "colab": {
          "base_uri": "https://localhost:8080/"
        },
        "outputId": "4538027b-544e-416a-fae2-b7ea07a392bd"
      },
      "execution_count": null,
      "outputs": [
        {
          "output_type": "stream",
          "name": "stdout",
          "text": [
            "Mean of sepal length:: 5.843333333333333\n",
            "Mean of sepal width:: 3.0573333333333337\n",
            "Mean of petal length:: 3.7579999999999987\n",
            "Mean of petal width:: 1.199333333333334\n"
          ]
        }
      ]
    },
    {
      "cell_type": "code",
      "source": [
        "sepal_length_data=data[\"sepal_length\"]\n",
        "sepal_length_variance=0\n",
        "for k in sepal_length_data:\n",
        "  sepal_length_variance=sepal_length_variance+(k-sepal_length_mean)**2/len(sepal_length_data)\n",
        "print(\"Variance of sepal length::\",sepal_length_variance)\n",
        "\n",
        "sepal_width_data=data[\"sepal_width\"]\n",
        "sepal_width_variance=0\n",
        "for k in sepal_width_data:\n",
        "  sepal_width_variance=sepal_width_variance+(k-sepal_width_mean)**2/len(sepal_width_data)\n",
        "print(\"Variance of sepal width::\",sepal_width_variance)\n",
        "\n",
        "petal_length_data=data[\"petal_length\"]\n",
        "petal_length_variance=0\n",
        "for k in petal_length_data:\n",
        "  petal_length_variance=petal_length_variance+(k-petal_length_mean)**2/len(petal_length_data)\n",
        "print(\"Variance of petal length::\",petal_length_variance)\n",
        "\n",
        "petal_width_data=data[\"petal_width\"]\n",
        "petal_width_variance=0\n",
        "for k in petal_width_data:\n",
        "  petal_width_variance=petal_width_variance+(k-petal_width_mean)**2/len(petal_width_data)\n",
        "print(\"Variance of petal width::\",petal_width_variance)"
      ],
      "metadata": {
        "id": "5s4wyJP_VSBp",
        "colab": {
          "base_uri": "https://localhost:8080/"
        },
        "outputId": "2d7f4981-4218-4665-c31f-aaea1c2bf7cf"
      },
      "execution_count": null,
      "outputs": [
        {
          "output_type": "stream",
          "name": "stdout",
          "text": [
            "Variance of sepal length:: 0.681122222222222\n",
            "Variance of sepal width:: 0.18871288888888865\n",
            "Variance of petal length:: 3.095502666666666\n",
            "Variance of petal width:: 0.5771328888888894\n"
          ]
        }
      ]
    },
    {
      "cell_type": "code",
      "source": [
        "# petal_length=[]\n",
        "# petal_length_probability=[]\n",
        "# for k in petal_length_data:\n",
        "#   if k not in petal_length:\n",
        "#     petal_length.append(k)\n",
        "#     petal_length_probability.append(1/len(petal_length_data))\n",
        "#   else:\n",
        "#     index=petal_length.index(k)\n",
        "#     petal_length_probability[index]=petal_length_probability[index]+1/len(petal_length_data)\n",
        "# petal_width=[]\n",
        "# petal_width_probability=[]\n",
        "# for k in petal_width_data:\n",
        "#   if k not in petal_width:\n",
        "#     petal_width.append(k)\n",
        "#     petal_width_probability.append(1/len(petal_width_data))\n",
        "#   else:\n",
        "#     index=petal_width.index(k)\n",
        "#     petal_width_probability[index]=petal_width_probability[index]+1/len(petal_width_data)\n",
        "# sepal_length=[]\n",
        "# sepal_length_probability=[]\n",
        "# for k in sepal_length_data:\n",
        "#   if k not in sepal_length:\n",
        "#     sepal_length.append(k)\n",
        "#     sepal_length_probability.append(1/len(sepal_length_data))\n",
        "#   else:\n",
        "#     index=sepal_length.index(k)\n",
        "#     sepal_length_probability[index]=sepal_length_probability[index]+1/len(sepal_length_data)\n",
        "# sepal_width=[]\n",
        "# sepal_width_probability=[]\n",
        "# for k in sepal_width_data:\n",
        "#   if k not in sepal_width:\n",
        "#     sepal_width.append(k)\n",
        "#     sepal_width_probability.append(1/len(sepal_width_data))\n",
        "#   else:\n",
        "#     index=sepal_width.index(k)\n",
        "#     sepal_width_probability[index]=sepal_width_probability[index]+1/len(sepal_width_data)"
      ],
      "metadata": {
        "id": "-KVKhLzsWSqw"
      },
      "execution_count": null,
      "outputs": []
    },
    {
      "cell_type": "code",
      "source": [
        "e_p_l_p_w=0\n",
        "e_p_l_s_l=0\n",
        "e_p_l_s_w=0\n",
        "e_p_w_s_l=0\n",
        "e_p_w_s_w=0\n",
        "e_s_l_s_w=0\n",
        "e=0\n",
        "e_2=0\n",
        "for k in data.index:\n",
        "    e_2=e_2+(data['sepal_length'][k]-sepal_length_mean)*(data['sepal_length'][k]-sepal_length_mean)/data.shape[0]\n",
        "    e=e+data['sepal_length'][k]*data['sepal_length'][k]/data.shape[0]\n",
        "    e_p_l_p_w=e_p_l_p_w+data['petal_length'][k]*data['petal_width'][k]/data.shape[0]\n",
        "    e_p_l_s_l=e_p_l_s_l+data['petal_length'][k]*data['sepal_length'][k]/data.shape[0]\n",
        "    e_p_l_s_w=e_p_l_s_w+data['petal_length'][k]*data['sepal_width'][k]/data.shape[0]\n",
        "    e_p_w_s_l=e_p_w_s_l+data['petal_width'][k]*data['sepal_length'][k]/data.shape[0]\n",
        "    e_p_w_s_w=e_p_w_s_w+data['petal_width'][k]*data['sepal_width'][k]/data.shape[0]\n",
        "    e_s_l_s_w=e_s_l_s_w+data['sepal_length'][k]*data['sepal_width'][k]/data.shape[0]"
      ],
      "metadata": {
        "id": "R4aTqtrjbjhP"
      },
      "execution_count": null,
      "outputs": []
    },
    {
      "cell_type": "code",
      "source": [
        "c=e-sepal_length_mean*sepal_length_mean\n",
        "c_2=e_2-sepal_length_mean*sepal_length_mean\n",
        "c_v_p_l_p_w=e_p_l_p_w-petal_length_mean*petal_width_mean\n",
        "c_v_p_l_s_l=e_p_l_s_l-petal_length_mean*sepal_length_mean\n",
        "c_v_p_l_s_w=e_p_l_s_w-petal_length_mean*sepal_width_mean\n",
        "c_v_p_w_s_l=e_p_w_s_l-petal_width_mean*sepal_length_mean\n",
        "c_v_p_w_s_w=e_p_w_s_w-petal_width_mean*sepal_width_mean\n",
        "c_v_s_l_s_w=e_s_l_s_w-sepal_length_mean*sepal_width_mean\n",
        "print(c_2)\n",
        "print(c)\n",
        "print(c_v_p_l_p_w)\n",
        "print(c_v_p_l_s_l)"
      ],
      "metadata": {
        "id": "qPq2MCSaox8N",
        "colab": {
          "base_uri": "https://localhost:8080/"
        },
        "outputId": "c567847e-e2ea-435b-a941-9c518995b297"
      },
      "execution_count": null,
      "outputs": [
        {
          "output_type": "stream",
          "name": "stdout",
          "text": [
            "-33.46342222222222\n",
            "0.6811222222222213\n",
            "1.2869719999999978\n",
            "1.265820000000005\n"
          ]
        }
      ]
    },
    {
      "cell_type": "code",
      "source": [
        "c_c_p_l_p_w=c_v_p_l_p_w/(((petal_length_variance)**(1/2))*((petal_width_variance)**(1/2)))\n",
        "c_c_p_l_s_l=c_v_p_l_s_l/(((petal_length_variance)**(1/2))*((sepal_length_variance)**(1/2)))\n",
        "c_c_p_l_s_w=c_v_p_l_s_w/(((petal_length_variance)**(1/2))*((sepal_width_variance)**(1/2)))\n",
        "c_c_p_w_s_l=c_v_p_w_s_l/(((petal_width_variance)**(1/2))*((sepal_length_variance)**(1/2)))\n",
        "c_c_p_w_s_w=c_v_p_w_s_w/(((petal_width_variance)**(1/2))*((sepal_width_variance)**(1/2)))\n",
        "c_c_s_l_s_w=c_v_s_l_s_w/(((sepal_length_variance)**(1/2))*((sepal_width_variance)**(1/2)))"
      ],
      "metadata": {
        "id": "D4SeOBdoswpW"
      },
      "execution_count": null,
      "outputs": []
    },
    {
      "cell_type": "code",
      "source": [
        "l=[[c_c_p_l_p_w,\"petal length and petal width\"],[c_c_p_l_s_l,\"petal length and sepal length\"],[c_c_p_l_s_w,\"petal length and sepal width\"],[c_c_p_w_s_l,\"petal width and sepal length\"],[c_c_p_w_s_w,\"petal width and sepal width\"],[c_c_s_l_s_w,\"sepal length and sepal width\"]]\n",
        "print(\"Order of correlation coeffient for whole data::\")\n",
        "for k in range(1,len(l)):\n",
        "  for j in range(len(l)-k):\n",
        "    if l[j][0]<l[j+1][0]:\n",
        "      l[j],l[j+1]=l[j+1],l[j]\n",
        "for k in range(len(l)):\n",
        "  print(l[k][1],\"(\",l[k][0],\")\")"
      ],
      "metadata": {
        "colab": {
          "base_uri": "https://localhost:8080/"
        },
        "id": "FuH6hAJ9uwlp",
        "outputId": "1659976e-bfec-44c6-818d-7dad76c345a1"
      },
      "execution_count": null,
      "outputs": [
        {
          "output_type": "stream",
          "name": "stdout",
          "text": [
            "Order of correlation coeffient for whole data::\n",
            "petal length and petal width ( 0.9628654314027943 )\n",
            "petal length and sepal length ( 0.871753775886587 )\n",
            "petal width and sepal length ( 0.8179411262715692 )\n",
            "sepal length and sepal width ( -0.11756978413300936 )\n",
            "petal width and sepal width ( -0.36612593253644815 )\n",
            "petal length and sepal width ( -0.42844010433053786 )\n"
          ]
        }
      ]
    },
    {
      "cell_type": "code",
      "source": [
        "setosa=data[data['species']=='setosa']\n",
        "versicolor=data[data['species']=='versicolor']\n",
        "virginica=data[data['species']=='virginica']"
      ],
      "metadata": {
        "id": "3cs-A381wZfw"
      },
      "execution_count": null,
      "outputs": []
    },
    {
      "cell_type": "code",
      "source": [
        "sepal_length_setosa=setosa[\"sepal_length\"]\n",
        "sepal_length_mean=0\n",
        "for k in sepal_length_setosa:\n",
        "  sepal_length_mean=sepal_length_mean+k/len(sepal_length_setosa)\n",
        "print(\"Mean of sepal length::\",sepal_length_mean)\n",
        "\n",
        "sepal_width_setosa=setosa[\"sepal_width\"]\n",
        "sepal_width_mean=0\n",
        "for k in sepal_width_setosa:\n",
        "  sepal_width_mean=sepal_width_mean+k/len(sepal_width_setosa)\n",
        "print(\"Mean of sepal width::\",sepal_width_mean)\n",
        "\n",
        "petal_length_setosa=setosa[\"petal_length\"]\n",
        "petal_length_mean=0\n",
        "for k in petal_length_setosa:\n",
        "  petal_length_mean=petal_length_mean+k/len(petal_length_setosa)\n",
        "print(\"Mean of petal length::\",petal_length_mean)\n",
        "\n",
        "petal_width_setosa=setosa[\"petal_width\"]\n",
        "petal_width_mean=0\n",
        "for k in petal_width_setosa:\n",
        "  petal_width_mean=petal_width_mean+k/len(petal_width_setosa)\n",
        "print(\"Mean of petal width::\",petal_width_mean)"
      ],
      "metadata": {
        "colab": {
          "base_uri": "https://localhost:8080/"
        },
        "id": "Td4ndJJEyMUp",
        "outputId": "afa25fca-a1a8-4f6d-8da4-d1520ba34b48"
      },
      "execution_count": null,
      "outputs": [
        {
          "output_type": "stream",
          "name": "stdout",
          "text": [
            "Mean of sepal length:: 5.006\n",
            "Mean of sepal width:: 3.4280000000000004\n",
            "Mean of petal length:: 1.462000000000001\n",
            "Mean of petal width:: 0.24600000000000016\n"
          ]
        }
      ]
    },
    {
      "cell_type": "code",
      "source": [
        "sepal_length_setosa=setosa[\"sepal_length\"]\n",
        "sepal_length_variance=0\n",
        "for k in sepal_length_setosa:\n",
        "  sepal_length_variance=sepal_length_variance+(k-sepal_length_mean)**2/len(sepal_length_setosa)\n",
        "print(\"Variance of sepal length::\",sepal_length_variance)\n",
        "\n",
        "sepal_width_setosa=setosa[\"sepal_width\"]\n",
        "sepal_width_variance=0\n",
        "for k in sepal_width_setosa:\n",
        "  sepal_width_variance=sepal_width_variance+(k-sepal_width_mean)**2/len(sepal_width_setosa)\n",
        "print(\"Variance of sepal width::\",sepal_width_variance)\n",
        "\n",
        "petal_length_setosa=setosa[\"petal_length\"]\n",
        "petal_length_variance=0\n",
        "for k in petal_length_setosa:\n",
        "  petal_length_variance=petal_length_variance+(k-petal_length_mean)**2/len(petal_length_setosa)\n",
        "print(\"Variance of petal length::\",petal_length_variance)\n",
        "\n",
        "petal_width_setosa=setosa[\"petal_width\"]\n",
        "petal_width_variance=0\n",
        "for k in petal_width_setosa:\n",
        "  petal_width_variance=petal_width_variance+(k-petal_width_mean)**2/len(petal_width_setosa)\n",
        "print(\"Variance of petal width::\",petal_width_variance)"
      ],
      "metadata": {
        "colab": {
          "base_uri": "https://localhost:8080/"
        },
        "id": "hyDo-v1m0VpE",
        "outputId": "e06b1d5c-965f-476e-b872-3e03daf2df03"
      },
      "execution_count": null,
      "outputs": [
        {
          "output_type": "stream",
          "name": "stdout",
          "text": [
            "Variance of sepal length:: 0.12176399999999993\n",
            "Variance of sepal width:: 0.14081600000000002\n",
            "Variance of petal length:: 0.029555999999999975\n",
            "Variance of petal width:: 0.010883999999999998\n"
          ]
        }
      ]
    },
    {
      "cell_type": "code",
      "source": [
        "# petal_length=[]\n",
        "# petal_length_probability=[]\n",
        "# for k in petal_length_setosa:\n",
        "#   if k not in petal_length:\n",
        "#     petal_length.append(k)\n",
        "#     petal_length_probability.append(1/len(petal_length_setosa))\n",
        "#   else:\n",
        "#     index=petal_length.index(k)\n",
        "#     petal_length_probability[index]=petal_length_probability[index]+1/len(petal_length_setosa)\n",
        "# petal_width=[]\n",
        "# petal_width_probability=[]\n",
        "# for k in petal_width_setosa:\n",
        "#   if k not in petal_width:\n",
        "#     petal_width.append(k)\n",
        "#     petal_width_probability.append(1/len(petal_width_setosa))\n",
        "#   else:\n",
        "#     index=petal_width.index(k)\n",
        "#     petal_width_probability[index]=petal_width_probability[index]+1/len(petal_width_setosa)\n",
        "# sepal_length=[]\n",
        "# sepal_length_probability=[]\n",
        "# for k in sepal_length_setosa:\n",
        "#   if k not in sepal_length:\n",
        "#     sepal_length.append(k)\n",
        "#     sepal_length_probability.append(1/len(sepal_length_setosa))\n",
        "#   else:\n",
        "#     index=sepal_length.index(k)\n",
        "#     sepal_length_probability[index]=sepal_length_probability[index]+1/len(sepal_length_setosa)\n",
        "# sepal_width=[]\n",
        "# sepal_width_probability=[]\n",
        "# for k in sepal_width_setosa:\n",
        "#   if k not in sepal_width:\n",
        "#     sepal_width.append(k)\n",
        "#     sepal_width_probability.append(1/len(sepal_width_setosa))\n",
        "#   else:\n",
        "#     index=sepal_width.index(k)\n",
        "#     sepal_width_probability[index]=sepal_width_probability[index]+1/len(sepal_width_setosa)"
      ],
      "metadata": {
        "id": "szpNDdwU0ZHc"
      },
      "execution_count": null,
      "outputs": []
    },
    {
      "cell_type": "code",
      "source": [
        "e_p_l_p_w=0\n",
        "e_p_l_s_l=0\n",
        "e_p_l_s_w=0\n",
        "e_p_w_s_l=0\n",
        "e_p_w_s_w=0\n",
        "e_s_l_s_w=0\n",
        "for k in setosa.index:\n",
        "    e_p_l_p_w=e_p_l_p_w+setosa['petal_length'][k]*setosa['petal_width'][k]/setosa.shape[0]\n",
        "    e_p_l_s_l=e_p_l_s_l+setosa['petal_length'][k]*setosa['sepal_length'][k]/setosa.shape[0]\n",
        "    e_p_l_s_w=e_p_l_s_w+setosa['petal_length'][k]*setosa['sepal_width'][k]/setosa.shape[0]\n",
        "    e_p_w_s_l=e_p_w_s_l+setosa['petal_width'][k]*setosa['sepal_length'][k]/setosa.shape[0]\n",
        "    e_p_w_s_w=e_p_w_s_w+setosa['petal_width'][k]*setosa['sepal_width'][k]/setosa.shape[0]\n",
        "    e_s_l_s_w=e_s_l_s_w+setosa['sepal_length'][k]*setosa['sepal_width'][k]/setosa.shape[0]"
      ],
      "metadata": {
        "id": "ZzGdLIc30keN"
      },
      "execution_count": null,
      "outputs": []
    },
    {
      "cell_type": "code",
      "source": [
        "c_v_p_l_p_w=e_p_l_p_w-petal_length_mean*petal_width_mean\n",
        "c_v_p_l_s_l=e_p_l_s_l-petal_length_mean*sepal_length_mean\n",
        "c_v_p_l_s_w=e_p_l_s_w-petal_length_mean*sepal_width_mean\n",
        "c_v_p_w_s_l=e_p_w_s_l-petal_width_mean*sepal_length_mean\n",
        "c_v_p_w_s_w=e_p_w_s_w-petal_width_mean*sepal_width_mean\n",
        "c_v_s_l_s_w=e_s_l_s_w-sepal_length_mean*sepal_width_mean"
      ],
      "metadata": {
        "id": "9inpbGyU0rRT"
      },
      "execution_count": null,
      "outputs": []
    },
    {
      "cell_type": "code",
      "source": [
        "c_c_p_l_p_w=c_v_p_l_p_w/(((petal_length_variance)**(1/2))*((petal_width_variance)**(1/2)))\n",
        "c_c_p_l_s_l=c_v_p_l_s_l/(((petal_length_variance)**(1/2))*((sepal_length_variance)**(1/2)))\n",
        "c_c_p_l_s_w=c_v_p_l_s_w/(((petal_length_variance)**(1/2))*((sepal_width_variance)**(1/2)))\n",
        "c_c_p_w_s_l=c_v_p_w_s_l/(((petal_width_variance)**(1/2))*((sepal_length_variance)**(1/2)))\n",
        "c_c_p_w_s_w=c_v_p_w_s_w/(((petal_width_variance)**(1/2))*((sepal_width_variance)**(1/2)))\n",
        "c_c_s_l_s_w=c_v_s_l_s_w/(((sepal_length_variance)**(1/2))*((sepal_width_variance)**(1/2)))"
      ],
      "metadata": {
        "id": "-1V8j6Hs0vmK"
      },
      "execution_count": null,
      "outputs": []
    },
    {
      "cell_type": "code",
      "source": [
        "l=[[c_c_p_l_p_w,\"petal length and petal width\"],[c_c_p_l_s_l,\"petal length and sepal length\"],[c_c_p_l_s_w,\"petal length and sepal width\"],[c_c_p_w_s_l,\"petal width and sepal length\"],[c_c_p_w_s_w,\"petal width and sepal width\"],[c_c_s_l_s_w,\"sepal length and sepal width\"]]\n",
        "print(\"Order of correlation coeffient for setosa::\")\n",
        "for k in range(1,len(l)):\n",
        "  for j in range(len(l)-k):\n",
        "    if l[j][0]<l[j+1][0]:\n",
        "      l[j],l[j+1]=l[j+1],l[j]\n",
        "for k in range(len(l)):\n",
        "  print(l[k][1],\"(\",l[k][0],\")\")"
      ],
      "metadata": {
        "colab": {
          "base_uri": "https://localhost:8080/"
        },
        "id": "hI3vueYY0_aY",
        "outputId": "83a3da1b-876a-4826-ccc8-904851337e43"
      },
      "execution_count": null,
      "outputs": [
        {
          "output_type": "stream",
          "name": "stdout",
          "text": [
            "Order of correlation coeffient for setosa::\n",
            "sepal length and sepal width ( 0.7425466856651463 )\n",
            "petal length and petal width ( 0.33163004080408837 )\n",
            "petal width and sepal length ( 0.2780983529359521 )\n",
            "petal length and sepal length ( 0.2671757588686452 )\n",
            "petal width and sepal width ( 0.23275201136286827 )\n",
            "petal length and sepal width ( 0.17769996678219047 )\n"
          ]
        }
      ]
    },
    {
      "cell_type": "code",
      "source": [
        "sepal_length_versicolor=versicolor[\"sepal_length\"]\n",
        "sepal_length_mean=0\n",
        "for k in sepal_length_versicolor:\n",
        "  sepal_length_mean=sepal_length_mean+k/len(sepal_length_versicolor)\n",
        "print(\"Mean of sepal length::\",sepal_length_mean)\n",
        "\n",
        "sepal_width_versicolor=versicolor[\"sepal_width\"]\n",
        "sepal_width_mean=0\n",
        "for k in sepal_width_versicolor:\n",
        "  sepal_width_mean=sepal_width_mean+k/len(sepal_width_versicolor)\n",
        "print(\"Mean of sepal width::\",sepal_width_mean)\n",
        "\n",
        "petal_length_versicolor=versicolor[\"petal_length\"]\n",
        "petal_length_mean=0\n",
        "for k in petal_length_versicolor:\n",
        "  petal_length_mean=petal_length_mean+k/len(petal_length_versicolor)\n",
        "print(\"Mean of petal length::\",petal_length_mean)\n",
        "\n",
        "petal_width_versicolor=versicolor[\"petal_width\"]\n",
        "petal_width_mean=0\n",
        "for k in petal_width_versicolor:\n",
        "  petal_width_mean=petal_width_mean+k/len(petal_width_versicolor)\n",
        "print(\"Mean of petal width::\",petal_width_mean)"
      ],
      "metadata": {
        "colab": {
          "base_uri": "https://localhost:8080/"
        },
        "id": "qrmgcXKl1_CP",
        "outputId": "3f3dbb3b-3b3e-4be1-d3dd-805b8ca7d5fa"
      },
      "execution_count": null,
      "outputs": [
        {
          "output_type": "stream",
          "name": "stdout",
          "text": [
            "Mean of sepal length:: 5.936\n",
            "Mean of sepal width:: 2.77\n",
            "Mean of petal length:: 4.26\n",
            "Mean of petal width:: 1.3260000000000007\n"
          ]
        }
      ]
    },
    {
      "cell_type": "code",
      "source": [
        "sepal_length_versicolor=versicolor[\"sepal_length\"]\n",
        "sepal_length_variance=0\n",
        "for k in sepal_length_versicolor:\n",
        "  sepal_length_variance=sepal_length_variance+(k-sepal_length_mean)**2/len(sepal_length_versicolor)\n",
        "print(\"Variance of sepal length::\",sepal_length_variance)\n",
        "\n",
        "sepal_width_versicolor=versicolor[\"sepal_width\"]\n",
        "sepal_width_variance=0\n",
        "for k in sepal_width_versicolor:\n",
        "  sepal_width_variance=sepal_width_variance+(k-sepal_width_mean)**2/len(sepal_width_versicolor)\n",
        "print(\"Variance of sepal width::\",sepal_width_variance)\n",
        "\n",
        "petal_length_versicolor=versicolor[\"petal_length\"]\n",
        "petal_length_variance=0\n",
        "for k in petal_length_versicolor:\n",
        "  petal_length_variance=petal_length_variance+(k-petal_length_mean)**2/len(petal_length_versicolor)\n",
        "print(\"Variance of petal length::\",petal_length_variance)\n",
        "\n",
        "petal_width_versicolor=versicolor[\"petal_width\"]\n",
        "petal_width_variance=0\n",
        "for k in petal_width_versicolor:\n",
        "  petal_width_variance=petal_width_variance+(k-petal_width_mean)**2/len(petal_width_versicolor)\n",
        "print(\"Variance of petal width::\",petal_width_variance)"
      ],
      "metadata": {
        "colab": {
          "base_uri": "https://localhost:8080/"
        },
        "id": "zutP1rl42KGD",
        "outputId": "2c99db4e-6a71-4f25-81e8-d11a8aad9d36"
      },
      "execution_count": null,
      "outputs": [
        {
          "output_type": "stream",
          "name": "stdout",
          "text": [
            "Variance of sepal length:: 0.26110399999999995\n",
            "Variance of sepal width:: 0.0965\n",
            "Variance of petal length:: 0.21640000000000004\n",
            "Variance of petal width:: 0.03832400000000002\n"
          ]
        }
      ]
    },
    {
      "cell_type": "code",
      "source": [
        "# petal_length=[]\n",
        "# petal_length_probability=[]\n",
        "# for k in petal_length_versicolor:\n",
        "#   if k not in petal_length:\n",
        "#     petal_length.append(k)\n",
        "#     petal_length_probability.append(1/len(petal_length_versicolor))\n",
        "#   else:\n",
        "#     index=petal_length.index(k)\n",
        "#     petal_length_probability[index]=petal_length_probability[index]+1/len(petal_length_versicolor)\n",
        "# petal_width=[]\n",
        "# petal_width_probability=[]\n",
        "# for k in petal_width_versicolor:\n",
        "#   if k not in petal_width:\n",
        "#     petal_width.append(k)\n",
        "#     petal_width_probability.append(1/len(petal_width_versicolor))\n",
        "#   else:\n",
        "#     index=petal_width.index(k)\n",
        "#     petal_width_probability[index]=petal_width_probability[index]+1/len(petal_width_versicolor)\n",
        "# sepal_length=[]\n",
        "# sepal_length_probability=[]\n",
        "# for k in sepal_length_versicolor:\n",
        "#   if k not in sepal_length:\n",
        "#     sepal_length.append(k)\n",
        "#     sepal_length_probability.append(1/len(sepal_length_versicolor))\n",
        "#   else:\n",
        "#     index=sepal_length.index(k)\n",
        "#     sepal_length_probability[index]=sepal_length_probability[index]+1/len(sepal_length_versicolor)\n",
        "# sepal_width=[]\n",
        "# sepal_width_probability=[]\n",
        "# for k in sepal_width_versicolor:\n",
        "#   if k not in sepal_width:\n",
        "#     sepal_width.append(k)\n",
        "#     sepal_width_probability.append(1/len(sepal_width_versicolor))\n",
        "#   else:\n",
        "#     index=sepal_width.index(k)\n",
        "#     sepal_width_probability[index]=sepal_width_probability[index]+1/len(sepal_width_versicolor)"
      ],
      "metadata": {
        "id": "f4PAgjVx2NEV"
      },
      "execution_count": null,
      "outputs": []
    },
    {
      "cell_type": "code",
      "source": [
        "e_p_l_p_w=0\n",
        "e_p_l_s_l=0\n",
        "e_p_l_s_w=0\n",
        "e_p_w_s_l=0\n",
        "e_p_w_s_w=0\n",
        "e_s_l_s_w=0\n",
        "for k in versicolor.index:\n",
        "    e_p_l_p_w=e_p_l_p_w+versicolor['petal_length'][k]*versicolor['petal_width'][k]/versicolor.shape[0]\n",
        "    e_p_l_s_l=e_p_l_s_l+versicolor['petal_length'][k]*versicolor['sepal_length'][k]/versicolor.shape[0]\n",
        "    e_p_l_s_w=e_p_l_s_w+versicolor['petal_length'][k]*versicolor['sepal_width'][k]/versicolor.shape[0]\n",
        "    e_p_w_s_l=e_p_w_s_l+versicolor['petal_width'][k]*versicolor['sepal_length'][k]/versicolor.shape[0]\n",
        "    e_p_w_s_w=e_p_w_s_w+versicolor['petal_width'][k]*versicolor['sepal_width'][k]/versicolor.shape[0]\n",
        "    e_s_l_s_w=e_s_l_s_w+versicolor['sepal_length'][k]*versicolor['sepal_width'][k]/versicolor.shape[0]"
      ],
      "metadata": {
        "id": "9gxpapke2Qee"
      },
      "execution_count": null,
      "outputs": []
    },
    {
      "cell_type": "code",
      "source": [
        "c_v_p_l_p_w=e_p_l_p_w-petal_length_mean*petal_width_mean\n",
        "c_v_p_l_s_l=e_p_l_s_l-petal_length_mean*sepal_length_mean\n",
        "c_v_p_l_s_w=e_p_l_s_w-petal_length_mean*sepal_width_mean\n",
        "c_v_p_w_s_l=e_p_w_s_l-petal_width_mean*sepal_length_mean\n",
        "c_v_p_w_s_w=e_p_w_s_w-petal_width_mean*sepal_width_mean\n",
        "c_v_s_l_s_w=e_s_l_s_w-sepal_length_mean*sepal_width_mean"
      ],
      "metadata": {
        "id": "qUqO4h8I2TWh"
      },
      "execution_count": null,
      "outputs": []
    },
    {
      "cell_type": "code",
      "source": [
        "c_c_p_l_p_w=c_v_p_l_p_w/(((petal_length_variance)**(1/2))*((petal_width_variance)**(1/2)))\n",
        "c_c_p_l_s_l=c_v_p_l_s_l/(((petal_length_variance)**(1/2))*((sepal_length_variance)**(1/2)))\n",
        "c_c_p_l_s_w=c_v_p_l_s_w/(((petal_length_variance)**(1/2))*((sepal_width_variance)**(1/2)))\n",
        "c_c_p_w_s_l=c_v_p_w_s_l/(((petal_width_variance)**(1/2))*((sepal_length_variance)**(1/2)))\n",
        "c_c_p_w_s_w=c_v_p_w_s_w/(((petal_width_variance)**(1/2))*((sepal_width_variance)**(1/2)))\n",
        "c_c_s_l_s_w=c_v_s_l_s_w/(((sepal_length_variance)**(1/2))*((sepal_width_variance)**(1/2)))"
      ],
      "metadata": {
        "id": "MR6qERvP2Ywz"
      },
      "execution_count": null,
      "outputs": []
    },
    {
      "cell_type": "code",
      "source": [
        "l=[[c_c_p_l_p_w,\"petal length and petal width\"],[c_c_p_l_s_l,\"petal length and sepal length\"],[c_c_p_l_s_w,\"petal length and sepal width\"],[c_c_p_w_s_l,\"petal width and sepal length\"],[c_c_p_w_s_w,\"petal width and sepal width\"],[c_c_s_l_s_w,\"sepal length and sepal width\"]]\n",
        "print(\"Order of correlation coeffient for versicolor::\")\n",
        "for k in range(1,len(l)):\n",
        "  for j in range(len(l)-k):\n",
        "    if l[j][0]<l[j+1][0]:\n",
        "      l[j],l[j+1]=l[j+1],l[j]\n",
        "for k in range(len(l)):\n",
        "  print(l[k][1],\"(\",l[k][0],\")\")"
      ],
      "metadata": {
        "colab": {
          "base_uri": "https://localhost:8080/"
        },
        "id": "Um5wfza32eEW",
        "outputId": "d483bc70-6d22-4c00-ee7f-0b9208e78dda"
      },
      "execution_count": null,
      "outputs": [
        {
          "output_type": "stream",
          "name": "stdout",
          "text": [
            "Order of correlation coeffient for versicolor::\n",
            "petal length and petal width ( 0.7866680885227916 )\n",
            "petal length and sepal length ( 0.7540489585920165 )\n",
            "petal width and sepal width ( 0.6639987200240652 )\n",
            "petal length and sepal width ( 0.5605220916929908 )\n",
            "petal width and sepal length ( 0.5464610715985837 )\n",
            "sepal length and sepal width ( 0.5259107172828345 )\n"
          ]
        }
      ]
    },
    {
      "cell_type": "code",
      "source": [
        "sepal_length_virginica=virginica[\"sepal_length\"]\n",
        "sepal_length_mean=0\n",
        "for k in sepal_length_virginica:\n",
        "  sepal_length_mean=sepal_length_mean+k/len(sepal_length_virginica)\n",
        "print(\"Mean of sepal length::\",sepal_length_mean)\n",
        "\n",
        "sepal_width_virginica=virginica[\"sepal_width\"]\n",
        "sepal_width_mean=0\n",
        "for k in sepal_width_virginica:\n",
        "  sepal_width_mean=sepal_width_mean+k/len(sepal_width_virginica)\n",
        "print(\"Mean of sepal width::\",sepal_width_mean)\n",
        "\n",
        "petal_length_virginica=virginica[\"petal_length\"]\n",
        "petal_length_mean=0\n",
        "for k in petal_length_virginica:\n",
        "  petal_length_mean=petal_length_mean+k/len(petal_length_virginica)\n",
        "print(\"Mean of petal length::\",petal_length_mean)\n",
        "\n",
        "petal_width_virginica=virginica[\"petal_width\"]\n",
        "petal_width_mean=0\n",
        "for k in petal_width_virginica:\n",
        "  petal_width_mean=petal_width_mean+k/len(petal_width_virginica)\n",
        "print(\"Mean of petal width::\",petal_width_mean)"
      ],
      "metadata": {
        "colab": {
          "base_uri": "https://localhost:8080/"
        },
        "id": "WLQAiq7s3MYA",
        "outputId": "68c196a7-9b7c-4fea-c63c-10bcac6642bf"
      },
      "execution_count": null,
      "outputs": [
        {
          "output_type": "stream",
          "name": "stdout",
          "text": [
            "Mean of sepal length:: 6.588000000000002\n",
            "Mean of sepal width:: 2.9740000000000006\n",
            "Mean of petal length:: 5.552000000000001\n",
            "Mean of petal width:: 2.026000000000001\n"
          ]
        }
      ]
    },
    {
      "cell_type": "code",
      "source": [
        "sepal_length_virginica=virginica[\"sepal_length\"]\n",
        "sepal_length_variance=0\n",
        "for k in sepal_length_virginica:\n",
        "  sepal_length_variance=sepal_length_variance+(k-sepal_length_mean)**2/len(sepal_length_virginica)\n",
        "print(\"Variance of sepal length::\",sepal_length_variance)\n",
        "\n",
        "sepal_width_virginica=virginica[\"sepal_width\"]\n",
        "sepal_width_variance=0\n",
        "for k in sepal_width_virginica:\n",
        "  sepal_width_variance=sepal_width_variance+(k-sepal_width_mean)**2/len(sepal_width_virginica)\n",
        "print(\"Variance of sepal width::\",sepal_width_variance)\n",
        "\n",
        "petal_length_virginica=virginica[\"petal_length\"]\n",
        "petal_length_variance=0\n",
        "for k in petal_length_virginica:\n",
        "  petal_length_variance=petal_length_variance+(k-petal_length_mean)**2/len(petal_length_virginica)\n",
        "print(\"Variance of petal length::\",petal_length_variance)\n",
        "\n",
        "petal_width_virginica=virginica[\"petal_width\"]\n",
        "petal_width_variance=0\n",
        "for k in petal_width_virginica:\n",
        "  petal_width_variance=petal_width_variance+(k-petal_width_mean)**2/len(petal_width_virginica)\n",
        "print(\"Variance of petal width::\",petal_width_variance)"
      ],
      "metadata": {
        "colab": {
          "base_uri": "https://localhost:8080/"
        },
        "id": "pFbAv2I_3Sq_",
        "outputId": "2f2278c1-c062-4eb0-ba75-8c51e718cc8f"
      },
      "execution_count": null,
      "outputs": [
        {
          "output_type": "stream",
          "name": "stdout",
          "text": [
            "Variance of sepal length:: 0.39625600000000033\n",
            "Variance of sepal width:: 0.10192400000000006\n",
            "Variance of petal length:: 0.2984960000000002\n",
            "Variance of petal width:: 0.073924\n"
          ]
        }
      ]
    },
    {
      "cell_type": "code",
      "source": [
        "# petal_length=[]\n",
        "# petal_length_probability=[]\n",
        "# for k in petal_length_virginica:\n",
        "#   if k not in petal_length:\n",
        "#     petal_length.append(k)\n",
        "#     petal_length_probability.append(1/len(petal_length_virginica))\n",
        "#   else:\n",
        "#     index=petal_length.index(k)\n",
        "#     petal_length_probability[index]=petal_length_probability[index]+1/len(petal_length_virginica)\n",
        "# petal_width=[]\n",
        "# petal_width_probability=[]\n",
        "# for k in petal_width_virginica:\n",
        "#   if k not in petal_width:\n",
        "#     petal_width.append(k)\n",
        "#     petal_width_probability.append(1/len(petal_width_virginica))\n",
        "#   else:\n",
        "#     index=petal_width.index(k)\n",
        "#     petal_width_probability[index]=petal_width_probability[index]+1/len(petal_width_virginica)\n",
        "# sepal_length=[]\n",
        "# sepal_length_probability=[]\n",
        "# for k in sepal_length_virginica:\n",
        "#   if k not in sepal_length:\n",
        "#     sepal_length.append(k)\n",
        "#     sepal_length_probability.append(1/len(sepal_length_virginica))\n",
        "#   else:\n",
        "#     index=sepal_length.index(k)\n",
        "#     sepal_length_probability[index]=sepal_length_probability[index]+1/len(sepal_length_virginica)\n",
        "# sepal_width=[]\n",
        "# sepal_width_probability=[]\n",
        "# for k in sepal_width_virginica:\n",
        "#   if k not in sepal_width:\n",
        "#     sepal_width.append(k)\n",
        "#     sepal_width_probability.append(1/len(sepal_width_virginica))\n",
        "#   else:\n",
        "#     index=sepal_width.index(k)\n",
        "#     sepal_width_probability[index]=sepal_width_probability[index]+1/len(sepal_width_virginica)"
      ],
      "metadata": {
        "id": "-8k1FQae3Vwe"
      },
      "execution_count": null,
      "outputs": []
    },
    {
      "cell_type": "code",
      "source": [
        "e_p_l_p_w=0\n",
        "e_p_l_s_l=0\n",
        "e_p_l_s_w=0\n",
        "e_p_w_s_l=0\n",
        "e_p_w_s_w=0\n",
        "e_s_l_s_w=0\n",
        "for k in virginica.index:\n",
        "    e_p_l_p_w=e_p_l_p_w+virginica['petal_length'][k]*virginica['petal_width'][k]/virginica.shape[0]\n",
        "    e_p_l_s_l=e_p_l_s_l+virginica['petal_length'][k]*virginica['sepal_length'][k]/virginica.shape[0]\n",
        "    e_p_l_s_w=e_p_l_s_w+virginica['petal_length'][k]*virginica['sepal_width'][k]/virginica.shape[0]\n",
        "    e_p_w_s_l=e_p_w_s_l+virginica['petal_width'][k]*virginica['sepal_length'][k]/virginica.shape[0]\n",
        "    e_p_w_s_w=e_p_w_s_w+virginica['petal_width'][k]*virginica['sepal_width'][k]/virginica.shape[0]\n",
        "    e_s_l_s_w=e_s_l_s_w+virginica['sepal_length'][k]*virginica['sepal_width'][k]/virginica.shape[0]"
      ],
      "metadata": {
        "id": "CsT8_Crq3bbB"
      },
      "execution_count": null,
      "outputs": []
    },
    {
      "cell_type": "code",
      "source": [
        "c_v_p_l_p_w=e_p_l_p_w-petal_length_mean*petal_width_mean\n",
        "c_v_p_l_s_l=e_p_l_s_l-petal_length_mean*sepal_length_mean\n",
        "c_v_p_l_s_w=e_p_l_s_w-petal_length_mean*sepal_width_mean\n",
        "c_v_p_w_s_l=e_p_w_s_l-petal_width_mean*sepal_length_mean\n",
        "c_v_p_w_s_w=e_p_w_s_w-petal_width_mean*sepal_width_mean\n",
        "c_v_s_l_s_w=e_s_l_s_w-sepal_length_mean*sepal_width_mean"
      ],
      "metadata": {
        "id": "n5-fgIM53kVp"
      },
      "execution_count": null,
      "outputs": []
    },
    {
      "cell_type": "code",
      "source": [
        "c_c_p_l_p_w=c_v_p_l_p_w/(((petal_length_variance)**(1/2))*((petal_width_variance)**(1/2)))\n",
        "c_c_p_l_s_l=c_v_p_l_s_l/(((petal_length_variance)**(1/2))*((sepal_length_variance)**(1/2)))\n",
        "c_c_p_l_s_w=c_v_p_l_s_w/(((petal_length_variance)**(1/2))*((sepal_width_variance)**(1/2)))\n",
        "c_c_p_w_s_l=c_v_p_w_s_l/(((petal_width_variance)**(1/2))*((sepal_length_variance)**(1/2)))\n",
        "c_c_p_w_s_w=c_v_p_w_s_w/(((petal_width_variance)**(1/2))*((sepal_width_variance)**(1/2)))\n",
        "c_c_s_l_s_w=c_v_s_l_s_w/(((sepal_length_variance)**(1/2))*((sepal_width_variance)**(1/2)))"
      ],
      "metadata": {
        "id": "LgnPGCuU3oGC"
      },
      "execution_count": null,
      "outputs": []
    },
    {
      "cell_type": "code",
      "source": [
        "l=[[c_c_p_l_p_w,\"petal length and petal width\"],[c_c_p_l_s_l,\"petal length and sepal length\"],[c_c_p_l_s_w,\"petal length and sepal width\"],[c_c_p_w_s_l,\"petal width and sepal length\"],[c_c_p_w_s_w,\"petal width and sepal width\"],[c_c_s_l_s_w,\"sepal length and sepal width\"]]\n",
        "print(\"Order of correlation coeffient for virginica::\")\n",
        "for k in range(1,len(l)):\n",
        "  for j in range(len(l)-k):\n",
        "    if l[j][0]<l[j+1][0]:\n",
        "      l[j],l[j+1]=l[j+1],l[j]\n",
        "for k in range(len(l)):\n",
        "  print(l[k][1],\"(\",l[k][0],\")\")"
      ],
      "metadata": {
        "colab": {
          "base_uri": "https://localhost:8080/"
        },
        "id": "Gh4dTGra3saZ",
        "outputId": "17cadd27-a0df-437a-cdb2-e4d773df26b5"
      },
      "execution_count": null,
      "outputs": [
        {
          "output_type": "stream",
          "name": "stdout",
          "text": [
            "Order of correlation coeffient for virginica::\n",
            "petal length and sepal length ( 0.8642247329355547 )\n",
            "petal width and sepal width ( 0.5377280262661136 )\n",
            "sepal length and sepal width ( 0.4572278163940815 )\n",
            "petal length and sepal width ( 0.4010445773427281 )\n",
            "petal length and petal width ( 0.3221082159002711 )\n",
            "petal width and sepal length ( 0.28110770915723443 )\n"
          ]
        }
      ]
    }
  ]
}